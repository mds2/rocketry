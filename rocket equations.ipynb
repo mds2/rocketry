{
 "cells": [
  {
   "cell_type": "markdown",
   "metadata": {},
   "source": [
    "Rocket equations\n",
    "=================\n",
    "\n",
    "\n",
    "\n",
    "\n",
    "So, the well known rocket equation, relating the $\\Delta v$ induced by a rocket burn as a function of the exhaust velocity, $v_e$, and the initial and final masses of the rocket (including any remaining fuel and payload), $m_f$ and $m_i$, comes from observing that\n",
    "\n",
    "$$\\Delta v = \\int_{m_f}^{m_i} \\frac{v_e}{m} dm = v_e \\ln{\\frac{m_i}{m_f}} $$"
   ]
  },
  {
   "cell_type": "markdown",
   "metadata": {},
   "source": [
    "Energy density of fuel\n",
    "=================\n",
    "\n",
    "This means that for fixed $v_e$, the initial mass of a rocket grows exponentially with the $\\Delta v$ desired.  Which is an undesirable state of things.\n",
    "\n",
    "A natural inclination is to try to get around this by increasing $v_e$.\n",
    "\n",
    "But that has limitations as well.\n",
    "\n",
    "Every imaginable fuel (even matter-antimatter) has some ratio of energy stored per unit mass.  Call this $R_e$\n",
    "\n",
    "Once the energy is extracted from a piece of fuel, the remaining mass of the burnt fuel has little use except to shoot it out the back of the rocket as reaction mass (or, worse, carry along with the rocket as dead weight).\n",
    "\n",
    "This gives us, at least for non-relativistic exhaust speeds, and negligible loss of mass through conversion to energy\n",
    "\n",
    "$$ R_e (m_i - m_f) = \\int_{m_f}^{m_i} \\frac{1}{2} v_e^2 dm $$"
   ]
  },
  {
   "cell_type": "markdown",
   "metadata": {},
   "source": [
    "Tying it together\n",
    "===============\n",
    "\n",
    "This is all well and good, and gives us an upper bound for $v_e$ for chemical rockets that have a constant exhaust velocity.  You can work it all out, tie it together, and figure out why constant $v_e$ chemical rockets have to be giant (and mostly consist of fuel) to achieve spaceflight $\\Delta v$\n",
    "\n",
    "But one can do more interesting things with these equations."
   ]
  },
  {
   "cell_type": "markdown",
   "metadata": {},
   "source": [
    "What if\n",
    "================\n",
    "\n",
    "What if we could independently schedule the release of spent fuel mass and spent fuel energy?\n",
    "What if we could store part of the energy from burning a piece of fuel, and use it, later, to send a different piece of exhaust at a higher $v_e$ when it is more optimal to do so?  Conversely, what if we could save some of the spent fuel exhaust from burning a piece of fuel, impart all the energy onto a smaller piece of fuel exhaust, and launch that reaction mass later?\n",
    "\n",
    "In short, what if we could make $v_e(m)$ a function of the mass remaining ($m$) ?"
   ]
  },
  {
   "cell_type": "markdown",
   "metadata": {},
   "source": [
    "Those equations then become\n",
    "\n",
    "$$ R_e (m_i - m_f) = \\int_{m_f}^{m_i} \\frac{1}{2} v_e^2(m) dm $$\n",
    "\n",
    "which, if you notice, for fixed $m_i$, $m_f$ and $R_e$, constrain the inner product of $v_e(m)$ with itself.\n",
    "\n",
    "And, subject to that, you, ideally, want to maximize\n",
    "\n",
    "$$\\Delta v = \\int_{m_f}^{m_i} \\frac{v_e(m)}{m} dm $$\n",
    "\n",
    "But that's just the inner product of $v_e(m)$ with $\\frac{1}{m}$ !\n",
    "\n",
    "In short, the optimal schedule for $v_e$ as a function of the mass remaining, $m$, is to make $v_e$ proportional to the reciprocal of the total spacecraft remaining mass."
   ]
  },
  {
   "cell_type": "markdown",
   "metadata": {},
   "source": [
    "Let's solve it!!!\n",
    "===============\n",
    "\n",
    "Start with the first equation,\n",
    "\n",
    "$$ R_e (m_i - m_f) = \\int_{m_f}^{m_i} \\frac{1}{2} v_e^2(m) dm $$\n",
    "\n",
    "And assume $v_e(m) = \\frac{k}{m}$ for some unknown $k$ that we're trying to solve for\n",
    "\n",
    "$$ R_e (m_i - m_f) = \\int_{m_f}^{m_i} \\frac{1}{2} \\frac{k^2}{m^2} dm  = \\frac{k^2}{2} ( \\frac{1}{m_f} - \\frac{1}{m_i})$$\n",
    "\n",
    "Or\n",
    "\n",
    "$$k = \\sqrt{ \\frac{2 R_e (m_i - m_f)}{\\frac{1}{m_f} - \\frac{1}{m_i}}}$$\n",
    "\n"
   ]
  },
  {
   "cell_type": "markdown",
   "metadata": {},
   "source": [
    "Which simplifies to $k = \\sqrt{ 2 R_e m_i m_f}$"
   ]
  },
  {
   "cell_type": "markdown",
   "metadata": {},
   "source": [
    "Now we want to solve\n",
    "\n",
    "$$\\Delta v = \\int_{m_f}^{m_i} \\frac{v_e(m)}{m} dm $$\n",
    "\n",
    "\n",
    "with $v_e(m) = \\frac{k}{m}$, which gets us\n",
    "\n",
    "$$\\Delta v = \\int_{m_f}^{m_i} \\frac{k}{m^2} dm = k ( \\frac{1}{m_f} - \\frac{1}{m_i})$$\n",
    "\n",
    "$$\\Delta v = k ( \\frac{1}{m_f} - \\frac{1}{m_i}) = k \\frac{m_i - m_f}{m_i m_f}$$\n",
    "\n",
    "$$ \\Delta v = \\sqrt{2 R_e m_i m_f} \\frac{m_i - m_f}{m_i m_f} = (m_i - m_f) \\sqrt{\\frac{2 R_e} {m_i m_f}}$$\n",
    "\n",
    "This looks comforting because we could multiply all the masses by, say, 10, and the $\\Delta v$ would remain the same, just as it does with the classic rocket equation for constant $v_e$.  Lets work that one out next"
   ]
  },
  {
   "cell_type": "code",
   "execution_count": 1,
   "metadata": {},
   "outputs": [],
   "source": [
    "from math import sqrt, log, exp"
   ]
  },
  {
   "cell_type": "code",
   "execution_count": 2,
   "metadata": {},
   "outputs": [],
   "source": [
    "## Just for the heck of it, let's write a python function that computes delta v\n",
    "## for an ideal-scheduled rocket as a function of m_f, m_i and Re\n",
    "\n",
    "def deltav_optimal(m_i, m_f, Re, m_curr = None):\n",
    "    \"\"\"\n",
    "    m_curr allows us to plan a burn schedule for a certain amount of fuel, and calculate velocity\n",
    "    at any point along that burn trajectory\n",
    "    \"\"\"\n",
    "    if m_curr is None:\n",
    "        m_curr = m_f\n",
    "    k = sqrt(2.0 * Re * m_i * m_f)\n",
    "    return k * (1 / m_curr - 1/m_i)"
   ]
  },
  {
   "cell_type": "markdown",
   "metadata": {},
   "source": [
    "Expression for constant exhaust velocity rocket\n",
    "============================\n",
    "\n",
    "Let's work this out for a constant velocity exhaust rocket.\n",
    "\n",
    "\n",
    "Recall from earlier that \n",
    "\n",
    "$$ \\Delta v = v_e \\log{(\\frac{m_i}{m_f})} $$ \n",
    "\n",
    "Now we just need to find $v_e$\n",
    "\n",
    "We have\n",
    "\n",
    "$$ R_e (m_i - m_f) = \\int_{m_f}^{m_i} \\frac{1}{2} v_e^2(m) dm $$\n",
    "\n",
    "and, since $v_e$ is a constant, we just have\n",
    "\n",
    "$$ R_e (m_i - m_f) = \\frac{1}{2} v_e^2 (m_i - m_f) $$\n",
    "\n",
    "or\n",
    "\n",
    "$$ v_e = \\sqrt{2 R_e} $$\n",
    "\n",
    "That gives us \n",
    "\n",
    "$$ \\Delta v = (\\sqrt{2 R_e}) \\log{(\\frac{m_i}{m_f})} $$"
   ]
  },
  {
   "cell_type": "code",
   "execution_count": 3,
   "metadata": {},
   "outputs": [],
   "source": [
    "## And we can calculate that in python too\n",
    "\n",
    "def deltav_constant(m_i, m_f, Re, m_curr = None):\n",
    "    \"\"\"\n",
    "    m_curr allows us to plan a burn schedule for a certain amount of fuel, and calculate velocity\n",
    "    at any point along that burn trajectory\n",
    "    \"\"\"\n",
    "    if m_curr is None:\n",
    "        m_curr = m_f\n",
    "    v_e = sqrt(2.0 * Re)\n",
    "    return v_e * log(m_i / m_curr)"
   ]
  },
  {
   "cell_type": "code",
   "execution_count": 4,
   "metadata": {},
   "outputs": [],
   "source": [
    "# Now that we have those calculations, let's plot velocity vs mass spent for both kinds of rockets\n",
    "from matplotlib import pyplot as plt"
   ]
  },
  {
   "cell_type": "code",
   "execution_count": 5,
   "metadata": {},
   "outputs": [
    {
     "data": {
      "text/plain": [
       "Text(0, 0.5, 'Delta v')"
      ]
     },
     "execution_count": 5,
     "metadata": {},
     "output_type": "execute_result"
    },
    {
     "data": {
      "image/png": "[encoded data removed]",
      "text/plain": [
       "<Figure size 432x288 with 1 Axes>"
      ]
     },
     "metadata": {
      "needs_background": "light"
     },
     "output_type": "display_data"
    }
   ],
   "source": [
    "plt.plot([0.1 * i for i in range(91)], [deltav_optimal(10.0, 1.0, 1.0, 10.0 - 0.1 * i) for i in range(91)], 'r-')\n",
    "plt.plot([0.1 * i for i in range(91)], [deltav_constant(10.0, 1.0, 1.0, 10.0 - 0.1 * i) for i in range(91)], 'b-')\n",
    "plt.xlabel(\"Total mass of fuel expended\")\n",
    "plt.ylabel(\"Delta v\")"
   ]
  },
  {
   "cell_type": "code",
   "execution_count": 6,
   "metadata": {},
   "outputs": [
    {
     "data": {
      "text/plain": [
       "Text(0, 0.5, 'Delta v')"
      ]
     },
     "execution_count": 6,
     "metadata": {},
     "output_type": "execute_result"
    },
    {
     "data": {
      "image/png": "[encoded data removed]",
      "text/plain": [
       "<Figure size 432x288 with 1 Axes>"
      ]
     },
     "metadata": {
      "needs_background": "light"
     },
     "output_type": "display_data"
    }
   ],
   "source": [
    "## That's for a fuel-payload ratio of 10 to 1.  What happens when it's 100 to 1?\n",
    "\n",
    "plt.plot([0.1 * i for i in range(991)], [deltav_optimal(100.0, 1.0, 1.0, 100.0 - 0.1 * i) for i in range(991)], 'r-')\n",
    "plt.plot([0.1 * i for i in range(991)], [deltav_constant(100.0, 1.0, 1.0, 100.0 - 0.1 * i) for i in range(991)], 'b-')\n",
    "plt.xlabel(\"Total mass of fuel expended\")\n",
    "plt.ylabel(\"Delta v\")"
   ]
  },
  {
   "cell_type": "code",
   "execution_count": 7,
   "metadata": {},
   "outputs": [
    {
     "name": "stdout",
     "output_type": "stream",
     "text": [
      "[10092.208262381673, 9072.152221635844]\n"
     ]
    },
    {
     "data": {
      "image/png": "[encoded data removed]",
      "text/plain": [
       "<Figure size 432x288 with 1 Axes>"
      ]
     },
     "metadata": {
      "needs_background": "light"
     },
     "output_type": "display_data"
    }
   ],
   "source": [
    "## Let's try with some physically plausible numbers\n",
    "\n",
    "h_energy_density = 141.8e6 / 9  # 141.8e6 is from wikipedia, dividing by 9 is because we need to carry oxygen\n",
    "# we need to carry 16 mass for every 2 mass of H2\n",
    "\n",
    "saturn_v_booster_mass = 2.3e6\n",
    "saturn_v_stage_2_mass = 0.48e6\n",
    "saturn_v_stage_3_mass = 0.119e6\n",
    "\n",
    "m_i_sv = saturn_v_stage_3_mass + saturn_v_stage_2_mass\n",
    "m_f_sv = saturn_v_stage_3_mass\n",
    "\n",
    "masses_sv = [m_f_sv + 0.001 * i * saturn_v_stage_2_mass for i in range(1001)]\n",
    "\n",
    "plt.plot(masses_sv, [deltav_optimal(m_i_sv, m_f_sv, h_energy_density, m) for m in masses_sv], 'r-')\n",
    "plt.plot(masses_sv, [deltav_constant(m_i_sv, m_f_sv, h_energy_density, m) for m in masses_sv], 'b-')\n",
    "plt.xlabel(\"Mass remaining\")\n",
    "plt.ylabel(\"Delta v\")\n",
    "print(str([deltav_optimal(m_i_sv, m_f_sv, h_energy_density), deltav_constant(m_i_sv, m_f_sv, h_energy_density)]))"
   ]
  },
  {
   "cell_type": "markdown",
   "metadata": {},
   "source": [
    "So under real-world plausible mass ratios, optimal vs constant $v_e$ doesn't matter *that* much!\n",
    "\n",
    "But an extra $km/s$ would still be useful if it could be achieved.\n",
    "\n",
    "Later we'll look into how feasible that might be, and how much energy we'd need to store in a rocketry scenario like this.\n",
    "\n",
    "But first we'll compare these simulation numbers to the actual $\\Delta v$ from the rocket this example was based on."
   ]
  },
  {
   "cell_type": "code",
   "execution_count": 8,
   "metadata": {},
   "outputs": [
    {
     "name": "stdout",
     "output_type": "stream",
     "text": [
      "Achieved delta v from actual Saturn V stage 2 was 4238.722222222223\n"
     ]
    }
   ],
   "source": [
    "# Let's compare to the actual Saturn-V second stage delta v\n",
    "vf_kmh = 25181\n",
    "vi_ms = 2756\n",
    "delta_v_m_per_s = (1000/3600) * vf_kmh - vi_ms\n",
    "print(\"Achieved delta v from actual Saturn V stage 2 was \" + str(delta_v_m_per_s))"
   ]
  },
  {
   "cell_type": "markdown",
   "metadata": {},
   "source": [
    "Huh, so our upper bound from the raw Tsiolkovsky equation wasn't that bad."
   ]
  },
  {
   "cell_type": "markdown",
   "metadata": {},
   "source": [
    "Comparison to billiard style collisions\n",
    "-----------------------------\n",
    "\n",
    "A natural question that might arise now is how this \"optimal\" schedule for $v_e(m)$ as a function of the mass remaining compares to a hypothetical \"billiard ball\" collision, in which the entire exhaust is ejected at once as a rigid body in a way that preserves total system momentum, and adds a kinetic energy of $R_e (m_i - m_f)$.\n",
    "\n",
    "We calculate that below."
   ]
  },
  {
   "cell_type": "markdown",
   "metadata": {},
   "source": [
    "Here we let $v_r$ be the final velocity magnitude of the rocket, and abuse notation to use $v_e$ to denote the final velocity magnitude of the ejected exhaust (as if it were a rigid body)\n",
    "\n",
    "Total energy in terms of $R_e$ and masses\n",
    "\n",
    "$$ E = R_e (m_i - m_f) $$\n",
    "\n",
    "Momentum balance\n",
    "\n",
    "$$ m_f v_r = (m_i - m_f) v_e $$\n",
    "\n",
    "Kinetic energy equals total energy\n",
    "\n",
    "$$ \\frac{1}{2} (m_i - m_f) v_e^2 + \\frac{1}{2} m_f v_r^2 = R_e (m_i - m_f) $$\n",
    "\n",
    "Gather terms by masses\n",
    "\n",
    "$$ m_f v_r^2 = (m_i - m_f) (2 R_e - v_e^2) $$\n",
    "\n",
    "$$ v_r = \\sqrt{\\frac{m_i - m_f}{m_f}} \\sqrt{ 2 R_e - v_e^2} $$\n",
    "\n",
    "which we can plug back in to the momentum balance equation for\n",
    "\n",
    "$$ (m_i - m_f) v_e = m_f \\sqrt{\\frac{m_i - m_f}{m_f}} \\sqrt{ 2 R_e - v_e^2} $$\n",
    "\n",
    "\n",
    "$$ \\sqrt{\\frac{m_i - m_f}{m_f}} v_e =  \\sqrt{ 2 R_e - v_e^2} $$\n",
    "\n",
    "Well, now we have to square things again to get anything done\n",
    "\n",
    "$$ (\\frac{m_i - m_f}{m_f}) v_e^2 + v_e^2 = 2 R_e $$\n",
    "\n",
    "$$ (\\frac{m_i}{m_f}) v_e^2 = 2 R_e $$\n",
    "\n",
    "$$ v_e = \\sqrt{\\frac{2 R_e m_f}{m_i}} $$\n",
    "\n",
    "$$ v_r = \\frac{m_i - m_f}{m_f} \\sqrt{\\frac{2 R_e m_f}{m_i}} $$\n",
    "\n",
    "$$ v_r = (m_i - m_f) \\sqrt{\\frac{2 R_e }{m_i m_f}} $$\n",
    "\n",
    "which is exactly what our optimal schedule of releasing mass and energy gave us."
   ]
  },
  {
   "cell_type": "markdown",
   "metadata": {},
   "source": [
    "Well, that's both relieving, and somewhat disappointing.  It ties everything together in a satisfying way, but raises the question of whether starting from the billiard style collision would have been a better way to reach this optimal schedule"
   ]
  },
  {
   "cell_type": "markdown",
   "metadata": {},
   "source": [
    "We also have an expression for $v_e(m)$ in terms of the remaining mass amd $v_r(m)$.  What happens if we subtract these?\n",
    "\n",
    "Recall\n",
    "\n",
    "$$ v_e(m) = \\frac{\\sqrt{ 2 R_e m_i m_f}}{m} $$\n",
    "\n",
    "$$ v_r(m) = \\sqrt{ 2 R_e m_i m_f} (\\frac{1}{m} - \\frac{1}{m_i} ) $$\n",
    "\n",
    "If we subtract these we get\n",
    "\n",
    "$$ v_e(m) - v_r(m) = \\frac{\\sqrt{2 R_e m_i m_f}}{m_i} = \\sqrt{\\frac{2 R_e m_f}{m_i}} $$\n",
    "\n",
    "which is exactly the exhaust velocity from our rigid-body billiard collision thought experiment.\n",
    "\n",
    "This, also, makes perfect sense."
   ]
  },
  {
   "cell_type": "markdown",
   "metadata": {},
   "source": [
    "How *much* energy does this require storing?\n",
    "=====================================\n",
    "\n"
   ]
  },
  {
   "cell_type": "markdown",
   "metadata": {},
   "source": [
    "Well, the amount of energy released when the mass remaining is $m_r$ is $ R_e (m_i - m_r) $\n",
    "\n",
    "At the same time, the amount released via exhaust is\n",
    "\n",
    "$$ \\int_{m_r}^{m_i} \\frac{1}{2} v_e(m)^2 dm $$\n",
    "\n",
    "where\n",
    "\n",
    "$$ v_e(m) = \\frac{\\sqrt{ 2 R_e m_i m_f}}{m} $$\n",
    "\n",
    "\n",
    "which gives us\n",
    "\n",
    "$$ \\int_{m_r}^{m_i} \\frac{1}{2} \\frac{2 R_e m_i m_f}{m^2} = \\int_{m_r}^{m_i} \\frac{R_e m_i m_f}{m^2} dm $$\n",
    "\n",
    "or\n",
    "\n",
    "$$ (R_e m_i m_f) ( \\frac{1}{m_r} - \\frac{1}{m_i}) $$\n",
    "\n",
    "This makes the difference between energy released and energy expended \n",
    "\n",
    "$$ R_e ( (m_i - m_r) - m_i m_f ( \\frac{1}{m_r} - \\frac{1}{m_i})) $$\n",
    "\n",
    "or\n",
    "\n",
    "$$ R_e ( (m_i - m_r) - (\\frac{m_i m_f}{m_r} - m_f) = R_e (m_i + m_f - m_r - \\frac{m_i m_f}{m_r}) $$"
   ]
  },
  {
   "cell_type": "code",
   "execution_count": 9,
   "metadata": {},
   "outputs": [],
   "source": [
    "def energy_stored_optimal(m_i, m_f, Re, m_curr = None):\n",
    "    \"\"\"\n",
    "    m_curr allows us to plan a burn schedule for a certain amount of fuel, and calculate velocity\n",
    "    at any point along that burn trajectory\n",
    "    \"\"\"\n",
    "    if m_curr is None:\n",
    "        m_curr = m_f\n",
    "    return Re * (m_i + m_f - m_curr - (m_i * m_f) / m_curr)"
   ]
  },
  {
   "cell_type": "code",
   "execution_count": 10,
   "metadata": {},
   "outputs": [
    {
     "data": {
      "text/plain": [
       "Text(0, 0.5, 'Energy stored (Joules)')"
      ]
     },
     "execution_count": 10,
     "metadata": {},
     "output_type": "execute_result"
    },
    {
     "data": {
      "image/png": "[encoded data removed]",
      "text/plain": [
       "<Figure size 432x288 with 1 Axes>"
      ]
     },
     "metadata": {
      "needs_background": "light"
     },
     "output_type": "display_data"
    }
   ],
   "source": [
    "### Now let's plot this for our saturn V second stage\n",
    "\n",
    "\n",
    "plt.plot(masses_sv, [energy_stored_optimal(m_i_sv, m_f_sv, h_energy_density, m) for m in masses_sv], 'r-')\n",
    "plt.xlabel(\"Mass remaining (kg)\")\n",
    "plt.ylabel(\"Energy stored (Joules)\")\n"
   ]
  },
  {
   "cell_type": "markdown",
   "metadata": {},
   "source": [
    "Wow, that's a lot of energy!  What happens if we assume all of it is stored as heat in the remaining fuel?\n",
    "\n",
    "We can look at what the resulting Joules/g stored heat energy would be (bearing in mind that Oxygen has a specific heat of very close to 1 Joule / (g degree Kelvin), although I am completely unsure of what kind of range that number holds over)."
   ]
  },
  {
   "cell_type": "code",
   "execution_count": 11,
   "metadata": {},
   "outputs": [
    {
     "data": {
      "text/plain": [
       "Text(0, 0.5, 'Joules / g stored energy per unit remaining mass')"
      ]
     },
     "execution_count": 11,
     "metadata": {},
     "output_type": "execute_result"
    },
    {
     "data": {
      "image/png": "[encoded data removed]",
      "text/plain": [
       "<Figure size 432x288 with 1 Axes>"
      ]
     },
     "metadata": {
      "needs_background": "light"
     },
     "output_type": "display_data"
    }
   ],
   "source": [
    "### Now let's plot joules / g for our saturn V second stage\n",
    "\n",
    "\n",
    "plt.plot(masses_sv, [energy_stored_optimal(m_i_sv, m_f_sv, h_energy_density, m)/(1000.0 * m) for m in masses_sv], 'r-')\n",
    "plt.xlabel(\"Mass remaining\")\n",
    "plt.ylabel(\"Joules / g stored energy per unit remaining mass\")\n"
   ]
  },
  {
   "cell_type": "markdown",
   "metadata": {},
   "source": [
    "12000 huh?  I have no idea how plausible that is.  If those Joules / g translate 1-to-1 into degrees Kelvin, that would be twice as hot as the surface of the sun.  That's pretty hot."
   ]
  },
  {
   "cell_type": "markdown",
   "metadata": {},
   "source": [
    "Inverting our view\n",
    "================\n",
    "\n",
    "So far, we've been looking at how much more $\\Delta v$ we could get from a fixed amount of fuel by changing the schedule at which we release mass and energy.\n",
    "\n",
    "What if we look at the problem the other way around : what if we want to look at how little fuel we can get away with for a fixed $\\Delta v$ and payload mass?\n",
    "\n",
    "To do this we'll first write a crude numerical method to help us numerically invert our `delta_v_optimal` and `delta_v_constant` functions that we defined above."
   ]
  },
  {
   "cell_type": "code",
   "execution_count": 12,
   "metadata": {},
   "outputs": [],
   "source": [
    "def find_zero(f, low, hi):\n",
    "    if f(low) > 0:\n",
    "        return find_zero(lambda x: -f(x), low, hi)\n",
    "    while f(hi) < 0.0:\n",
    "        hi = low + 2.0 * (hi - low)\n",
    "    while abs(hi - low) > 1.0e-6 * abs(max(hi, low)):\n",
    "        mid = 0.5 * (hi + low)\n",
    "        if f(mid) < 0.0:\n",
    "            low = mid\n",
    "        else:\n",
    "            hi = mid\n",
    "    return 0.5 * (hi + low)\n",
    "\n",
    "def inverse(f, val):\n",
    "    return find_zero(lambda x: f(x) - val, 0.0, val)"
   ]
  },
  {
   "cell_type": "code",
   "execution_count": 13,
   "metadata": {},
   "outputs": [
    {
     "data": {
      "text/plain": [
       "0.4054650664329529"
      ]
     },
     "execution_count": 13,
     "metadata": {},
     "output_type": "execute_result"
    }
   ],
   "source": [
    "inverse(exp, 1.5)"
   ]
  },
  {
   "cell_type": "code",
   "execution_count": 14,
   "metadata": {},
   "outputs": [
    {
     "data": {
      "text/plain": [
       "1.499999937487184"
      ]
     },
     "execution_count": 14,
     "metadata": {},
     "output_type": "execute_result"
    }
   ],
   "source": [
    "exp(inverse(exp, 1.5))"
   ]
  },
  {
   "cell_type": "code",
   "execution_count": 15,
   "metadata": {},
   "outputs": [
    {
     "data": {
      "text/plain": [
       "Text(0, 0.5, 'Fuel required, kg')"
      ]
     },
     "execution_count": 15,
     "metadata": {},
     "output_type": "execute_result"
    },
    {
     "data": {
      "image/png": "[encoded data removed]",
      "text/plain": [
       "<Figure size 432x288 with 1 Axes>"
      ]
     },
     "metadata": {
      "needs_background": "light"
     },
     "output_type": "display_data"
    }
   ],
   "source": [
    "delta_vs = [4000 + 20.0 * i for i in range(1000)]\n",
    "\n",
    "const_v_e_masses = [inverse(lambda m: deltav_constant(m + m_f_sv, m_f_sv, h_energy_density), v) for v in delta_vs]\n",
    "opt_v_e_masses = [inverse(lambda m: deltav_optimal(m + m_f_sv, m_f_sv, h_energy_density), v) for v in delta_vs]\n",
    "\n",
    "plt.plot(delta_vs, const_v_e_masses, 'r-')\n",
    "plt.plot(delta_vs, opt_v_e_masses, 'k-')\n",
    "\n",
    "plt.xlabel(\"Delta v desired, m/s\")\n",
    "plt.ylabel(\"Fuel required, kg\")"
   ]
  },
  {
   "cell_type": "code",
   "execution_count": 16,
   "metadata": {},
   "outputs": [
    {
     "data": {
      "text/plain": [
       "Text(0, 0.5, 'Fuel to payload mass ratio, (dimensionless)')"
      ]
     },
     "execution_count": 16,
     "metadata": {},
     "output_type": "execute_result"
    },
    {
     "data": {
      "image/png": "[encoded data removed]",
      "text/plain": [
       "<Figure size 432x288 with 1 Axes>"
      ]
     },
     "metadata": {
      "needs_background": "light"
     },
     "output_type": "display_data"
    }
   ],
   "source": [
    "# Or, if you're more interested in fuel to payload mass ratios\n",
    "\n",
    "delta_vs = [4000 + 20.0 * i for i in range(1000)]\n",
    "\n",
    "const_v_e_mass_ratios = [m/m_f_sv for m in const_v_e_masses]\n",
    "opt_v_e_mass_ratios = [m/m_f_sv for m in opt_v_e_masses]\n",
    "\n",
    "plt.plot(delta_vs, const_v_e_mass_ratios, 'r-')\n",
    "plt.plot(delta_vs, opt_v_e_mass_ratios, 'k-')\n",
    "\n",
    "plt.xlabel(\"Delta v desired, m/s\")\n",
    "plt.ylabel(\"Fuel to payload mass ratio, (dimensionless)\")"
   ]
  },
  {
   "cell_type": "markdown",
   "metadata": {},
   "source": [
    "As a computer programmer, having been trained to care about the asymptotic efficiency of processes, I naturally find these plots intriguing.  But am I right to do so?\n",
    "\n",
    "For one thing, asymptotics tend to only matter when analyzing functions of variables along which one expects to scale. And these two functions start to peel away at $\\Delta v$ beyond that required for most interplanetary travel within the solar system.\n",
    "\n",
    "More importantly, though, the stored energy requirements for savings at the more extreme end might be increasingly prohibitive.  Let's analyze them!"
   ]
  },
  {
   "cell_type": "markdown",
   "metadata": {},
   "source": [
    "Recall that stored energy, when $m_r$ kg of mass remains, can be expressed as\n",
    "\n",
    "$$ R_e (m_i + m_f - m_r - \\frac{m_i m_f}{m_r}) $$\n",
    "\n",
    "We want to find where the derivative of this over mass remaining reaches zero for $m_i < m_r < m_f$\n",
    "\n",
    "$$ \\frac{d}{dm} \\frac{1}{m_r} ( m_i + m_f - m_r - \\frac{m_i m_f}{m_r}) = 0 $$\n",
    "\n",
    "$$ \\frac{d}{dm} \\frac{m_i + m_f}{m_r} - 1 - \\frac{m_i m_f}{m_r^2} = 0 $$\n",
    "\n",
    "$$ \\frac{-m_i - m_f}{m_r^2} + \\frac{2 m_i m_f}{m_r^3} = 0 $$\n",
    "\n",
    "$$ \\frac{2 m_i m_f}{m_r} = m_i + m_f $$\n",
    "\n",
    "$$ m_r = \\frac{2 m_i m_f}{m_i + m_f} $$"
   ]
  },
  {
   "cell_type": "code",
   "execution_count": 17,
   "metadata": {},
   "outputs": [],
   "source": [
    "# So, let's write a method to compute this worst-case point\n",
    "\n",
    "def mass_of_worst_case_energy(m_i, m_f):\n",
    "    return (2.0 * m_i * m_f)/(m_i + m_f)\n",
    "\n",
    "def worst_case_energy_density(m_i, m_f, R_e):\n",
    "    \"\"\" returns answer in Joules / g \"\"\"\n",
    "    m = mass_of_worst_case_energy(m_i, m_f)\n",
    "    return energy_stored_optimal(m_i, m_f, R_e, m) / (1000.0 * m)"
   ]
  },
  {
   "cell_type": "code",
   "execution_count": 18,
   "metadata": {},
   "outputs": [
    {
     "data": {
      "text/plain": [
       "12731.58345141062"
      ]
     },
     "execution_count": 18,
     "metadata": {},
     "output_type": "execute_result"
    }
   ],
   "source": [
    "# energy_stored_optimal(m_i_sv, m_f_sv, h_energy_density, m)/(1000.0 * m)\n",
    "\n",
    "# Now let's check it with our Saturn V second stage example\n",
    "\n",
    "worst_case_energy_density(m_i_sv, m_f_sv, h_energy_density)"
   ]
  },
  {
   "cell_type": "code",
   "execution_count": 19,
   "metadata": {},
   "outputs": [
    {
     "data": {
      "text/plain": [
       "Text(0, 0.5, 'Worst stored energy density, J/g')"
      ]
     },
     "execution_count": 19,
     "metadata": {},
     "output_type": "execute_result"
    },
    {
     "data": {
      "image/png": "[encoded data removed]",
      "text/plain": [
       "<Figure size 432x288 with 1 Axes>"
      ]
     },
     "metadata": {
      "needs_background": "light"
     },
     "output_type": "display_data"
    }
   ],
   "source": [
    "# That checks out, let's plot it!\n",
    "\n",
    "delta_vs = [4000 + 20.0 * i for i in range(1000)]\n",
    "\n",
    "densities = [worst_case_energy_density(m + m_f_sv, m_f_sv, h_energy_density) for m in opt_v_e_masses]\n",
    "plt.plot(delta_vs, densities, 'k-')\n",
    "\n",
    "plt.xlabel(\"Delta v desired, m/s\")\n",
    "plt.ylabel(\"Worst stored energy density, J/g\")"
   ]
  },
  {
   "cell_type": "markdown",
   "metadata": {},
   "source": [
    "Those are some pretty steep energy densities required near the end.  Probably not achievable by merely adding heat to the remaining fuel.\n"
   ]
  },
  {
   "cell_type": "markdown",
   "metadata": {},
   "source": [
    "A simpler view\n",
    "===============\n",
    "\n",
    "Before we move on to potential practical applications, here's another, and much simpler, way to look at these findings.\n",
    "\n",
    "Let's go back to high school physics.\n",
    "\n",
    "Suppose there are $N$ particles, with velocities $v_i$ for $i \\in (1 ... N)$ and masses $m_i$ for $i \\in (1 ... N)$\n",
    "\n",
    "The center of mass of this system of particles moves with velocity $v_{cm} = \\frac{\\sum_{i=1}^N v_i m_i}{\\sum_{i=1}^N m_i}$\n",
    "\n",
    "Denote the velocity of each particle with respect to the center of mass as $v_{rel,i} = v_i - v_{cm}$\n",
    "\n",
    "The total kinetic energy of the system is\n",
    "\n",
    "$$ \\sum_{i=1}^N \\frac{1}{2} m_i v_i^2 = \\sum_{i=1}^N \\frac{1}{2} m_i (v_{cm} + v_{rel,i})^2 = \\sum_{i=1}^N \\frac{1}{2} m_i v_{cm}^2 + \\sum_{i=1}^N m_i v_{rel,i} v_{cm} + \\sum_{i=1}^N \\frac{1}{2} m_i v_{rel,i}^2$$\n",
    "\n",
    "and we can pull terms out that don't depend on $i$ to get\n",
    "\n",
    "$$ = \\frac{1}{2} v_{cm}^2 \\sum_{i=1}^N m_i + v_{cm} \\sum_{i=1}^N m_i v_{rel,i} + \\sum_{i=1}^N \\frac{1}{2} m_i v_{rel,i}^2 $$\n",
    "\n",
    "But we know that $\\sum_{i=1}^N m_i v_{rel,i} = 0$, we can define $m_{total} = \\sum_{i=1}^N m_i$, and our equation becomes\n",
    "\n",
    "$$ \\frac{1}{2} m_{tot} v_{cm}^2 + \\sum_{i=1}^N \\frac{1}{2} m_i v_{rel,i} ^2 $$\n",
    "\n",
    "So the total kinetic energy of the system of particles is the sum of $\\frac{1}{2} m_{tot} v_{cm}^2$ and $\\sum_{i=1}^N \\frac{1}{2} m_i v_{rel,i}^2$\n",
    "\n",
    "And the total momentum of the system is simply $m_{tot} v_{cm}$\n",
    "\n",
    "So, what does this mean for rockets?\n",
    "-------------------------\n",
    "\n",
    "It means that, if a rocket imparts a total energy, $E$, into expelling exhaust of total mass $m_{tot}$, the way to maximize the total momentum of the exhaust is to minimize the $\\sum_{i=1}^N \\frac{1}{2} m_i v_{rel,i}^2$ term. The only way to do this is to set $v_{rel,i}=0$ for all $i$, in other words, to impart the same final velocity to all exhuast (in some inertial reference frame).\n",
    "\n",
    "This is the same conclusion we reached above, but with a much simpler path of reasoning.\n",
    "\n",
    "What else can we do with this?\n",
    "---------------------------------------\n",
    "\n",
    "This approach may allow us to easily work out the relativistic equivalent of the above equations, without resorting to attempting calculus of variations in Minkowski space.\n",
    "\n",
    "This is potentially important, because even rockets that don't reach relativistic speeds may have relativistic exhaust, especially with various exotic deep space propulsion systems"
   ]
  },
  {
   "cell_type": "markdown",
   "metadata": {},
   "source": [
    "Is free extra mass useful?\n",
    "=====================\n",
    "\n",
    "There are several mechanisms by which an existing spacecraft might encounter a chunk of mass that it can accelerate along with conventional rocket exhaust.\n",
    "\n",
    "Scheduling how much of this mass to inject per unit fuel consumed can allow an otherwise conventional rocket to more closely approximate the exhaust schedule prescribed by this work.\n",
    "\n",
    "Because of this, it's worth asking under which conditions it's worthwhile to pick up the extra mass."
   ]
  },
  {
   "cell_type": "markdown",
   "metadata": {},
   "source": [
    "\n",
    "\n",
    "Optimal exhuast schedule with extra mass\n",
    "----------------------------\n",
    "\n",
    "Recall that the $ \\Delta v $ for a rocket with optimal exhaust schedule is\n",
    "\n",
    "$$ (m_i - m_f) \\sqrt{\\frac{2 R_e} {m_i m_f}} $$\n",
    "\n",
    "Suppose we add an extra $ m_{extra} $ of inert mass to the fuel.\n",
    "\n",
    "Our new $ R_e $ becomes $ \\frac{R_e (m_i - m_f)}{m_{extra} + m_i - m_f} $ and our new $ m_i $ becomes $ m_i + m_{extra} $\n",
    "\n",
    "We can plug these in to get\n",
    "\n",
    "$$ (m_{extra} + m_i - m_f) \\sqrt{\\frac{2 R_e (m_i - m_f)} {(m_{extra} + m_i - m_f) (m_i + m_{extra}) m_f}} $$\n",
    "\n",
    "or\n",
    "\n",
    "$$ \\sqrt{\\frac{2 R_e (m_i - m_f) (m_i + m_{extra} - m_f) } {(m_i + m_{extra}) m_f}} $$\n",
    "\n",
    "which can be re-arranged to\n",
    "\n",
    "$$ \\sqrt{\\frac{2 R_e (m_i - m_f) (m_i + m_{extra}) } {(m_i + m_{extra}) m_f} - \\frac{2 R_e (m_i - m_f) m_f}{(m_i + m_{extra}) m_f} } $$\n",
    "\n",
    "or\n",
    "\n",
    "$$ \\sqrt{\\frac{2 R_e (m_i - m_f)  } { m_f} - \\frac{2 R_e (m_i - m_f)}{m_i + m_{extra}} } $$\n",
    "\n",
    "and, with apologies for spelling out too many intermediate steps with too many terms,\n",
    "\n",
    "$$ \\sqrt{(2 R_e (m_i - m_f)) ( \\frac{1 } { m_f} - \\frac{1}{m_i + m_{extra}}) } $$\n",
    "\n",
    "Since $ \\frac{1}{m_i + m_{extra}} $ decreases with increasing $ m_{extra} $ , adding extra mass does always increase the final spacecraft velocity, albeit with diminishing returns, as an infinite value for $ m_{extra} $\n",
    "gives a final velocity of\n",
    "\n",
    "$$ \\sqrt{(2 R_e (m_i - m_f)) ( \\frac{1 } { m_f}) } $$\n",
    "\n",
    "\n"
   ]
  },
  {
   "cell_type": "code",
   "execution_count": 24,
   "metadata": {},
   "outputs": [
    {
     "name": "stdout",
     "output_type": "stream",
     "text": [
      "With infinite inert extra mass, final velocity is 11274.025077876253\n",
      "With zero inert extra mass, final velocity is 10092.208262381673\n"
     ]
    }
   ],
   "source": [
    "# Let's try imagining if the 2nd stage of a Saturn V had used an optimal exhaust velocity schedule\n",
    "# with infinite free extra mass\n",
    "\n",
    "# recall the following\n",
    "\n",
    "h_energy_density = 141.8e6 / 9  # 141.8e6 is from wikipedia, dividing by 9 is because we need to carry oxygen\n",
    "# we need to carry 16 mass for every 2 mass of H2\n",
    "\n",
    "saturn_v_booster_mass = 2.3e6\n",
    "saturn_v_stage_2_mass = 0.48e6\n",
    "saturn_v_stage_3_mass = 0.119e6\n",
    "\n",
    "m_i_sv = saturn_v_stage_3_mass + saturn_v_stage_2_mass\n",
    "m_f_sv = saturn_v_stage_3_mass\n",
    "\n",
    "# then compute\n",
    "\n",
    "print(\"With infinite inert extra mass, final velocity is \" +\n",
    "      str(sqrt((2.0 * h_energy_density * (m_i_sv - m_f_sv))/m_f_sv)))\n",
    "\n",
    "# and compare to\n",
    "\n",
    "\n",
    "print(\"With zero inert extra mass, final velocity is \" +\n",
    "      str(sqrt((2.0 * h_energy_density * (m_i_sv - m_f_sv)) * (1.0/m_f_sv - 1.0/m_i_sv))))"
   ]
  },
  {
   "cell_type": "markdown",
   "metadata": {},
   "source": [
    "So, hardly a significant change.\n",
    "\n",
    "But there is some promise here -- perhaps adding inert mass could allow us to follow an optimal exhaust velocity schedule without having to store ludicrous energy densities?"
   ]
  },
  {
   "cell_type": "markdown",
   "metadata": {},
   "source": [
    "\n",
    "Constant exhaust velocity with extra mass\n",
    "--------------------------\n",
    "\n",
    "TODO : fill in later\n",
    "\n",
    "Optimal exhaust schedule with extra mass, compared to constant exhaust with no extra mass\n",
    "----------------------\n",
    "\n",
    "TODO : fill in later\n",
    "\n",
    "\n",
    "Mass launched to rendezvous point with space gun, engine and fuel by conventional rocket, optimal schedule afterwards\n",
    "-----------------------\n",
    "\n",
    "TODO : fill in later"
   ]
  },
  {
   "cell_type": "markdown",
   "metadata": {},
   "source": [
    "Potential mission profiles\n",
    "====================\n",
    "\n",
    "TODO"
   ]
  },
  {
   "cell_type": "markdown",
   "metadata": {},
   "source": [
    "Relativistic analog\n",
    "==============\n",
    "\n",
    "TODO"
   ]
  },
  {
   "cell_type": "markdown",
   "metadata": {},
   "source": [
    "Interstellar travel\n",
    "==================\n",
    "\n",
    "TODO"
   ]
  },
  {
   "cell_type": "code",
   "execution_count": null,
   "metadata": {},
   "outputs": [],
   "source": []
  }
 ],
 "metadata": {
  "authors": [
   {
    "name": "Michael Schuresko"
   }
  ],
  "kernelspec": {
   "display_name": "Python 3",
   "language": "python",
   "name": "python3"
  },
  "language_info": {
   "codemirror_mode": {
    "name": "ipython",
    "version": 3
   },
   "file_extension": ".py",
   "mimetype": "text/x-python",
   "name": "python",
   "nbconvert_exporter": "python",
   "pygments_lexer": "ipython3",
   "version": "3.8.10"
  }
 },
 "nbformat": 4,
 "nbformat_minor": 4
}
