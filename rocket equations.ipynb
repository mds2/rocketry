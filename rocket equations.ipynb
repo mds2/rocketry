{
 "cells": [
  {
   "cell_type": "markdown",
   "metadata": {},
   "source": [
    "Rocket equations\n",
    "=================\n",
    "\n",
    "So, the well known rocket equation, relating the $\\Delta v$ induced by a rocket burn as a function of the exhaust velocity, $v_e$, and the initial and final masses of the rocket (including any remaining fuel and payload), $m_f$ and $m_i$, comes from observing that\n",
    "\n",
    "$$\\Delta v = \\int_{m_f}^{m_i} \\frac{v_e}{m} dm = v_e \\ln{\\frac{m_i}{m_f}} $$"
   ]
  },
  {
   "cell_type": "markdown",
   "metadata": {},
   "source": [
    "Energy density of fuel\n",
    "=================\n",
    "\n",
    "This means that for fixed $v_e$, the initial mass of a rocket grows exponentially with the $\\Delta v$ desired.  Which is an undesirable state of things.\n",
    "\n",
    "A natural inclination is to try to get around this by increasing $v_e$.\n",
    "\n",
    "But that has limitations as well.\n",
    "\n",
    "Every imaginable fuel (even matter-antimatter) has some ratio of energy stored per unit mass.  Call this $R_e$\n",
    "\n",
    "Once the energy is extracted from a piece of fuel, the remaining mass of the burnt fuel has little use except to shoot it out the back of the rocket as reaction mass (or, worse, carry along with the rocket as dead weight).\n",
    "\n",
    "This gives us, at least for non-relativistic exhaust speeds, and negligible loss of mass through conversion to energy\n",
    "\n",
    "$$ R_e (m_i - m_f) = \\int_{m_f}^{m_i} \\frac{1}{2} v_e^2 dm $$"
   ]
  },
  {
   "cell_type": "markdown",
   "metadata": {},
   "source": [
    "Tying it together\n",
    "===============\n",
    "\n",
    "This is all well and good, and gives us an upper bound for $v_e$ for chemical rockets that have a constant exhaust velocity.  You can work it all out, tie it together, and figure out why constant $v_e$ chemical rockets have to be giant (and mostly consist of fuel) to achieve spaceflight $\\Delta v$\n",
    "\n",
    "But one can do more interesting things with these equations."
   ]
  },
  {
   "cell_type": "markdown",
   "metadata": {},
   "source": [
    "What if\n",
    "================\n",
    "\n",
    "What if we could independently schedule the release of spent fuel mass and spent fuel energy?\n",
    "What if we could store part of the energy from burning a piece of fuel, and use it, later, to send a different piece of exhaust at a higher $v_e$ when it is more optimal to do so?  Conversely, what if we could save some of the spent fuel exhaust from burning a piece of fuel, impart all the energy onto a smaller piece of fuel exhaust, and launch that reaction mass later?\n",
    "\n",
    "In short, what if we could make $v_e(m)$ a function of the mass remaining ($m$) ?"
   ]
  },
  {
   "cell_type": "markdown",
   "metadata": {},
   "source": [
    "Those equations then become\n",
    "\n",
    "$$ R_e (m_i - m_f) = \\int_{m_f}^{m_i} \\frac{1}{2} v_e^2(m) dm $$\n",
    "\n",
    "which, if you notice, for fixed $m_i$, $m_f$ and $R_e$, constrain the inner product of $v_e(m)$ with itself.\n",
    "\n",
    "And, subject to that, you, ideally, want to maximize\n",
    "\n",
    "$$\\Delta v = \\int_{m_f}^{m_i} \\frac{v_e(m)}{m} dm $$\n",
    "\n",
    "But that's just the inner product of $v_e(m)$ with $\\frac{1}{m}$ !\n",
    "\n",
    "In short, the optimal schedule for $v_e$ as a function of the mass remaining, $m$, is to make $v_e$ proportional to the reciprocal of the total spacecraft remaining mass."
   ]
  },
  {
   "cell_type": "markdown",
   "metadata": {},
   "source": [
    "Let's solve it!!!\n",
    "===============\n",
    "\n",
    "Start with the first equation,\n",
    "\n",
    "$$ R_e (m_i - m_f) = \\int_{m_f}^{m_i} \\frac{1}{2} v_e^2(m) dm $$\n",
    "\n",
    "And assume $v_e(m) = \\frac{k}{m}$ for some unknown $k$ that we're trying to solve for\n",
    "\n",
    "$$ R_e (m_i - m_f) = \\int_{m_f}^{m_i} \\frac{1}{2} \\frac{k^2}{m^2} dm  = \\frac{k^2}{2} ( \\frac{1}{m_f} - \\frac{1}{m_i})$$\n",
    "\n",
    "Or\n",
    "\n",
    "$$k = \\sqrt{ \\frac{2 R_e (m_i - m_f)}{\\frac{1}{m_f} - \\frac{1}{m_i}}}$$\n",
    "\n"
   ]
  },
  {
   "cell_type": "markdown",
   "metadata": {},
   "source": [
    "Which simplifies to $k = \\sqrt{ 2 R_e m_i m_f}$"
   ]
  },
  {
   "cell_type": "markdown",
   "metadata": {},
   "source": [
    "Now we want to solve\n",
    "\n",
    "$$\\Delta v = \\int_{m_f}^{m_i} \\frac{v_e(m)}{m} dm $$\n",
    "\n",
    "\n",
    "with $v_e(m) = \\frac{k}{m}$, which gets us\n",
    "\n",
    "$$\\Delta v = \\int_{m_f}^{m_i} \\frac{k}{m^2} dm = k ( \\frac{1}{m_f} - \\frac{1}{m_i})$$\n",
    "\n",
    "$$\\Delta v = k ( \\frac{1}{m_f} - \\frac{1}{m_i}) = k \\frac{m_i - m_f}{m_i m_f}$$\n",
    "\n",
    "$$ \\Delta v = \\sqrt{2 R_e m_i m_f} \\frac{m_i - m_f}{m_i m_f} = (m_i - m_f) \\sqrt{\\frac{2 R_e} {m_i m_f}}$$\n",
    "\n",
    "This looks comforting because we could multiply all the masses by, say, 10, and the $\\Delta v$ would remain the same, just as it does with the classic rocket equation for constant $v_e$.  Lets work that one out next"
   ]
  },
  {
   "cell_type": "code",
   "execution_count": null,
   "metadata": {},
   "outputs": [],
   "source": []
  }
 ],
 "metadata": {
  "kernelspec": {
   "display_name": "Python 3",
   "language": "python",
   "name": "python3"
  },
  "language_info": {
   "codemirror_mode": {
    "name": "ipython",
    "version": 3
   },
   "file_extension": ".py",
   "mimetype": "text/x-python",
   "name": "python",
   "nbconvert_exporter": "python",
   "pygments_lexer": "ipython3",
   "version": "3.8.5"
  }
 },
 "nbformat": 4,
 "nbformat_minor": 4
}
